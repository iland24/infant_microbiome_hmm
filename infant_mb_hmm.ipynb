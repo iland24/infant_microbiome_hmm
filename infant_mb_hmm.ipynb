{
 "cells": [
  {
   "cell_type": "code",
   "execution_count": 1,
   "id": "773bc54d",
   "metadata": {},
   "outputs": [
    {
     "name": "stdout",
     "output_type": "stream",
     "text": [
      "ℹ Using R 4.1.1 (lockfile was generated with R 4.2.3)\n",
      "- Project '~/Desktop/dan/prj_mac/infant_microbiome_hmm/code' loaded. [renv 1.1.2]\n",
      "- The project is out-of-sync -- use `renv::status()` for details.\n"
     ]
    }
   ],
   "source": [
    "import rpy2.robjects as ro\n",
    "import rpy2.robjects.packages as rpackages\n",
    "\n",
    "# Install Bioconductor's DirichletMultinomial package if not installed\n",
    "if not rpackages.isinstalled(\"BiocManager\"):\n",
    "    ro.r(\"install.packages('BiocManager')\")\n",
    "\n",
    "if not rpackages.isinstalled(\"DirichletMultinomial\"):\n",
    "    ro.r(\"BiocManager::install('DirichletMultinomial')\")\n",
    "\n",
    "if not rpackages.isinstalled(\"reshape2\"):\n",
    "    ro.r(\"install.packages('reshape2')\")"
   ]
  },
  {
   "cell_type": "code",
   "execution_count": 2,
   "id": "d337a68c",
   "metadata": {},
   "outputs": [
    {
     "name": "stderr",
     "output_type": "stream",
     "text": [
      "R[write to console]: 필요한 패키지를 로딩중입니다: S4Vectors\n",
      "\n",
      "R[write to console]: 필요한 패키지를 로딩중입니다: stats4\n",
      "\n",
      "R[write to console]: 필요한 패키지를 로딩중입니다: BiocGenerics\n",
      "\n",
      "R[write to console]: \n",
      "다음의 패키지를 부착합니다: ‘BiocGenerics’\n",
      "\n",
      "\n",
      "R[write to console]: The following objects are masked from ‘package:stats’:\n",
      "\n",
      "    IQR, mad, sd, var, xtabs\n",
      "\n",
      "\n",
      "R[write to console]: The following objects are masked from ‘package:base’:\n",
      "\n",
      "    Filter, Find, Map, Position, Reduce, anyDuplicated, append,\n",
      "    as.data.frame, basename, cbind, colnames, dirname, do.call,\n",
      "    duplicated, eval, evalq, get, grep, grepl, intersect, is.unsorted,\n",
      "    lapply, mapply, match, mget, order, paste, pmax, pmax.int, pmin,\n",
      "    pmin.int, rank, rbind, rownames, sapply, setdiff, sort, table,\n",
      "    tapply, union, unique, unsplit, which.max, which.min\n",
      "\n",
      "\n",
      "R[write to console]: \n",
      "다음의 패키지를 부착합니다: ‘S4Vectors’\n",
      "\n",
      "\n",
      "R[write to console]: The following objects are masked from ‘package:base’:\n",
      "\n",
      "    I, expand.grid, unname\n",
      "\n",
      "\n",
      "R[write to console]: 필요한 패키지를 로딩중입니다: IRanges\n",
      "\n"
     ]
    }
   ],
   "source": [
    "import pandas as pd\n",
    "import numpy as np\n",
    "from tqdm import tqdm\n",
    "\n",
    "import matplotlib.pyplot as plt\n",
    "import seaborn as sns\n",
    "import os\n",
    "\n",
    "from scipy.special import logsumexp\n",
    "from sklearn.metrics import roc_curve, auc\n",
    "\n",
    "from dataset import InfantMicrobiomeDataset\n",
    "from gaussianhmm import InfantMBGaussianHMM\n",
    "\n",
    "from mylogger import logger # creates \"output\" dir & .log file\n",
    "\n",
    "# logger needs to be reimported if output directory needs to be created again\n",
    "# import mylogger\n",
    "# import importlib\n",
    "# importlib.reload(mylogger)\n",
    "# from mylogger import logger\n",
    "\n",
    "import pdb"
   ]
  },
  {
   "cell_type": "code",
   "execution_count": 5,
   "id": "4e692ff8",
   "metadata": {},
   "outputs": [],
   "source": [
    "otu_df = pd.read_csv('ignore/merged_otu.csv',index_col=\"Taxa\")\n",
    "label_df = pd.read_csv('data/class_labels.tsv',delimiter='\\t',index_col=\"Astarte ID\")"
   ]
  },
  {
   "cell_type": "code",
   "execution_count": 6,
   "id": "b8905b5a",
   "metadata": {},
   "outputs": [
    {
     "name": "stdout",
     "output_type": "stream",
     "text": [
      "Label missing for sample id: <1128> \n",
      "=> not added to dictionary dataset\n",
      "sample id: <1128> removed from microbiome data\n",
      "\n",
      "Label missing for sample id: <2018> \n",
      "=> not added to dictionary dataset\n",
      "sample id: <2018> removed from microbiome data\n",
      "\n",
      "Label missing for sample id: <1242> \n",
      "=> not added to dictionary dataset\n",
      "sample id: <1242> removed from microbiome data\n",
      "\n",
      "Label missing for sample id: <2017> \n",
      "=> not added to dictionary dataset\n",
      "sample id: <2017> removed from microbiome data\n",
      "\n",
      "Label missing for sample id: <1078> \n",
      "=> not added to dictionary dataset\n",
      "sample id: <1078> removed from microbiome data\n",
      "\n",
      "Label missing for sample id: <1023> \n",
      "=> not added to dictionary dataset\n",
      "sample id: <1023> removed from microbiome data\n",
      "\n"
     ]
    }
   ],
   "source": [
    "dataset = InfantMicrobiomeDataset(otu_df.copy(deep=True), label_df)"
   ]
  },
  {
   "cell_type": "code",
   "execution_count": 7,
   "id": "8ee08ef8",
   "metadata": {},
   "outputs": [
    {
     "name": "stdout",
     "output_type": "stream",
     "text": [
      "\n",
      "  Soft kmeans\n",
      "    iteration 10 change 0.006443\n",
      "    iteration 20 change 0.000004\n",
      "  Expectation Maximization setup\n",
      "  Expectation Maximization\n",
      "    iteration 10 change 0.004903\n",
      "  Hessian\n",
      "\n",
      "  Soft kmeans\n",
      "    iteration 10 change 0.010589\n",
      "    iteration 20 change 0.000069\n",
      "  Expectation Maximization setup\n",
      "  Expectation Maximization\n",
      "    iteration 10 change 0.626501\n",
      "  Hessian\n"
     ]
    }
   ],
   "source": [
    "outdir='output/'\n",
    "\n",
    "true_ls = []\n",
    "loglikelihood_ratio_ls = []\n",
    "test_infant_id_ls = []\n",
    "\n",
    "pseudo_cnt = 10\n",
    "\n",
    "gf_n_components = 4\n",
    "gn_n_components = 4\n",
    "\n",
    "random_state = 135\n",
    "\n",
    "# train/test split \n",
    "dataset.train_test_split(test_size=0.3, random_state=random_state) \n",
    "\n",
    "# split TRAIN data by label (remove missing tps)\n",
    "gf_df = dataset.get_single_class_df(is_label_1=True, remove_missing_tps=True, from_train=True)\n",
    "gn_df = dataset.get_single_class_df(is_label_1=False, remove_missing_tps=True, from_train=True)\n",
    "\n",
    "# drop rows (taxa) with less than n observed datapoints in gf/gn df \n",
    "idx_to_drop_gf = dataset.get_idx_w_less_than_n_datapoints(gf_df, unobserved_val=0, n=3)\n",
    "idx_to_drop_gn = dataset.get_idx_w_less_than_n_datapoints(gn_df, unobserved_val=0, n=3)\n",
    "\n",
    "idx_to_drop = idx_to_drop_gf+idx_to_drop_gn\n",
    "gf_df = gf_df.drop(index=idx_to_drop)\n",
    "gn_df = gn_df.drop(index=idx_to_drop)\n",
    "logger.info(f\"gf data shape: <{gf_df.shape}>\")\n",
    "logger.info(f\"gn data shape: <{gn_df.shape}>\")\n",
    "\n",
    "# add pseudo counts before running DMM\n",
    "gf_df = dataset.add_pseudo_cnt(gf_df, pseudo_cnt=pseudo_cnt)\n",
    "gn_df = dataset.add_pseudo_cnt(gn_df, pseudo_cnt=pseudo_cnt)\n",
    "\n",
    "# # save gf_df & gn_df csv files for DMM code to access\n",
    "infant_dir_path = outdir\n",
    "gf_df.to_csv(infant_dir_path+\"gf.csv\")\n",
    "gn_df.to_csv(infant_dir_path+\"gn.csv\")\n",
    "\n",
    "# run DMM on each class-split & save initial state assignments to infant_dir_path\n",
    "dataset.run_dmm(out_dir=infant_dir_path,\n",
    "                data_path=infant_dir_path+\"gf.csv\",\n",
    "                n_comp_range_pair=(gf_n_components,gf_n_components),\n",
    "                random_state=random_state)\n",
    "\n",
    "dataset.run_dmm(out_dir=infant_dir_path,\n",
    "                data_path=infant_dir_path+\"gn.csv\",\n",
    "                n_comp_range_pair=(gn_n_components,gn_n_components),\n",
    "                random_state=random_state)\n",
    "\n",
    "# include missing tp & transform data to proability (by samples) & center log ratio \n",
    "gf_w_missing_df = dataset.get_single_class_df(is_label_1=True, remove_missing_tps=False, from_train=True)\n",
    "gn_w_missing_df = dataset.get_single_class_df(is_label_1=False, remove_missing_tps=False, from_train=True)\n",
    "\n",
    "gf_w_missing_df = gf_w_missing_df.drop(index=idx_to_drop)\n",
    "gn_w_missing_df = gn_w_missing_df.drop(index=idx_to_drop)\n",
    "\n",
    "# add pseudo counts to data with missing timepoint columns\n",
    "gf_w_missing_df = dataset.add_pseudo_cnt(gf_w_missing_df, pseudo_cnt=pseudo_cnt)\n",
    "gn_w_missing_df = dataset.add_pseudo_cnt(gn_w_missing_df, pseudo_cnt=pseudo_cnt)\n",
    "\n",
    "gf_clr_df = dataset.normalize_n_clr(gf_w_missing_df, norm_col=True)\n",
    "gn_clr_df = dataset.normalize_n_clr(gn_w_missing_df, norm_col=True)\n",
    "\n",
    "# gf_clr_df = dataset.normalize_n_clr(gf_df, norm_col=True)\n",
    "# gn_clr_df = dataset.normalize_n_clr(gn_df, norm_col=True)\n",
    "\n",
    "# create GF & GN HMM model instances\n",
    "# & initialize HMM params (initial/transition/emission) from assigned states\n",
    "gf_hmm = InfantMBGaussianHMM(n_states=gf_n_components, name='gf_hmm')\n",
    "gn_hmm = InfantMBGaussianHMM(n_states=gn_n_components, name='gn_hmm')\n",
    "\n",
    "gf_hmm.initialize_hmm_params_from_state_assignments(data_df = gf_clr_df,\n",
    "                                                    sa_path = infant_dir_path+\"gf_state_assignments.csv\")\n",
    "\n",
    "gn_hmm.initialize_hmm_params_from_state_assignments(data_df = gn_clr_df,\n",
    "                                                    sa_path = infant_dir_path+\"gn_state_assignments.csv\")\n",
    "# create dict version of data for HMM\n",
    "gf_hmm.data_dict = dataset.create_data_dict(gf_clr_df)\n",
    "gn_hmm.data_dict = dataset.create_data_dict(gn_clr_df)\n",
    "\n",
    "# fit on train data\n",
    "gf_hmm.fit(gf_hmm.data_dict)\n",
    "gn_hmm.fit(gn_hmm.data_dict)\n",
    "\n",
    "# get predictions on test set\n",
    "# perform the same preprocessing on test dataset\n",
    "dataset.test_df = dataset.test_df.drop(index=idx_to_drop)\n",
    "dataset.test_df = dataset.add_pseudo_cnt(dataset.test_df, pseudo_cnt=pseudo_cnt)\n",
    "test_clr_df = dataset.normalize_n_clr(dataset.test_df, norm_col=True)\n",
    "\n",
    "test_dict = dataset.create_data_dict(test_clr_df)\n",
    "\n",
    "gf_loglikelihood_dict = gf_hmm.calc_loglikelihood(test_dict)\n",
    "gn_loglikelihood_dict = gn_hmm.calc_loglikelihood(test_dict)\n",
    "\n",
    "for sample_id, data in dataset.test_dict.items():\n",
    "    test_infant_id_ls.append(sample_id)\n",
    "    true_ls.append(data.label)\n",
    "    loglikelihood_ratio_ls.append(gf_loglikelihood_dict[sample_id] - gn_loglikelihood_dict[sample_id])\n",
    "\n",
    "logger.info(f\"Test infant id list: {str(test_infant_id_ls)}\")\n",
    "logger.info(f\"True label list: {str(true_ls)}\")\n",
    "logger.info(f\"Loglikelihood_ratio list: {str(loglikelihood_ratio_ls)}\")"
   ]
  },
  {
   "cell_type": "code",
   "execution_count": 9,
   "id": "f4c06ba5",
   "metadata": {},
   "outputs": [],
   "source": [
    "ll_arr = np.array(loglikelihood_ratio_ls)\n",
    "pred_arr = np.where(ll_arr>0,1,0)\n",
    "true_arr = np.array(true_ls)"
   ]
  },
  {
   "cell_type": "code",
   "execution_count": 10,
   "id": "ffce5881",
   "metadata": {},
   "outputs": [
    {
     "name": "stdout",
     "output_type": "stream",
     "text": [
      "Accuracy: 0.6455696202531646\n",
      "Precision: 0.53125\n",
      "Recall: 0.5666666666666667\n",
      "F1 Score: 0.5483870967741935\n",
      "Confusion Matrix:\n",
      " [[34 15]\n",
      " [13 17]]\n"
     ]
    }
   ],
   "source": [
    "from sklearn.metrics import accuracy_score, precision_score, recall_score, f1_score, confusion_matrix\n",
    "\n",
    "acc = accuracy_score(true_arr, pred_arr)\n",
    "prec = precision_score(true_arr, pred_arr)\n",
    "rec = recall_score(true_arr, pred_arr)\n",
    "f1 = f1_score(true_arr, pred_arr)\n",
    "cm = confusion_matrix(true_arr, pred_arr)\n",
    "\n",
    "# Print them\n",
    "print(\"Accuracy:\", acc)\n",
    "print(\"Precision:\", prec)\n",
    "print(\"Recall:\", rec)\n",
    "print(\"F1 Score:\", f1)\n",
    "print(\"Confusion Matrix:\\n\", cm)"
   ]
  },
  {
   "cell_type": "code",
   "execution_count": 11,
   "id": "a3ecf4b7",
   "metadata": {},
   "outputs": [
    {
     "data": {
      "image/png": "[encoded data removed]",
      "text/plain": [
       "<Figure size 600x600 with 1 Axes>"
      ]
     },
     "metadata": {},
     "output_type": "display_data"
    }
   ],
   "source": [
    "# Compute the ROC curve\n",
    "fpr, tpr, thresholds = roc_curve(true_ls, loglikelihood_ratio_ls)\n",
    "\n",
    "# Compute AUC (area under the curve)\n",
    "roc_auc = auc(fpr, tpr)\n",
    "\n",
    "# Plot the ROC curve\n",
    "plt.figure(figsize=(6, 6))\n",
    "plt.plot(fpr, tpr, color='blue', lw=2, label=f\"ROC curve (AUC = {roc_auc:.2f})\")\n",
    "plt.plot([0, 1], [0, 1], color='gray', linestyle='--', lw=1)  # Diagonal line for random chance\n",
    "plt.xlabel(\"False Positive Rate\")\n",
    "plt.ylabel(\"True Positive Rate\")\n",
    "plt.title(\"Receiver Operating Characteristic (ROC)\")\n",
    "plt.legend(loc=\"lower right\")\n",
    "plt.grid(True)\n",
    "plt.tight_layout()\n",
    "plt.show()"
   ]
  }
 ],
 "metadata": {
  "kernelspec": {
   "display_name": "infant_hmm",
   "language": "python",
   "name": "python3"
  },
  "language_info": {
   "codemirror_mode": {
    "name": "ipython",
    "version": 3
   },
   "file_extension": ".py",
   "mimetype": "text/x-python",
   "name": "python",
   "nbconvert_exporter": "python",
   "pygments_lexer": "ipython3",
   "version": "3.8.12"
  }
 },
 "nbformat": 4,
 "nbformat_minor": 5
}
